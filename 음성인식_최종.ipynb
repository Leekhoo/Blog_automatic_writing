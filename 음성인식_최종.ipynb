{
  "nbformat": 4,
  "nbformat_minor": 0,
  "metadata": {
    "colab": {
      "provenance": []
    },
    "kernelspec": {
      "name": "python3",
      "display_name": "Python 3"
    },
    "language_info": {
      "name": "python"
    }
  },
  "cells": [
    {
      "cell_type": "code",
      "source": [
        "!mkdir -p /content/drive/MyDrive/python_code/"
      ],
      "metadata": {
        "id": "5ekZ30BE_ALv"
      },
      "execution_count": null,
      "outputs": []
    },
    {
      "cell_type": "code",
      "execution_count": null,
      "metadata": {
        "colab": {
          "base_uri": "https://localhost:8080/"
        },
        "id": "5kqV-2kJ981X",
        "outputId": "941e6429-0c5e-4b82-bc53-c8e0021b0908"
      },
      "outputs": [
        {
          "output_type": "stream",
          "name": "stdout",
          "text": [
            "Overwriting python.py\n"
          ]
        }
      ],
      "source": [
        "%%writefile python.py\n",
        "\n",
        "# 여기에 스크립트 내용을 작성하세요\n",
        "import speech_recognition as sr\n",
        "from datetime import datetime\n",
        "\n",
        "def transcribe_audio():\n",
        "    recognizer = sr.Recognizer()\n",
        "    with sr.Microphone() as source:\n",
        "        print(\"Say something!\")\n",
        "        audio_data = recognizer.listen(source)\n",
        "    try:\n",
        "        text = recognizer.recognize_google(audio_data, language=\"ko-KR\")\n",
        "        return text\n",
        "    except sr.UnknownValueError:\n",
        "        return \"음성을 인식할 수 없습니다.\"\n",
        "    except sr.RequestError as e:\n",
        "        return f\"음성 인식 오류: {e}\"\n",
        "\n",
        "# 현재 시각을 가져옵니다.\n",
        "current_time = datetime.now().strftime(\"%H:%M\")\n",
        "\n",
        "# 음성 인식 결과를 얻습니다.\n",
        "result = transcribe_audio()\n",
        "\n",
        "# 현재 시각과 음성 인식 결과를 출력합니다.\n",
        "print(f\"{current_time} 음성 인식 결과: {result}\")\n",
        "\n"
      ]
    },
    {
      "cell_type": "code",
      "source": [
        "from google.colab import files\n",
        "files.download('python.py')\n"
      ],
      "metadata": {
        "colab": {
          "base_uri": "https://localhost:8080/",
          "height": 34
        },
        "id": "kjnt2PAq-ZOB",
        "outputId": "457dd7ab-4080-4afb-9d96-539bfc132996"
      },
      "execution_count": null,
      "outputs": [
        {
          "output_type": "display_data",
          "data": {
            "text/plain": [
              "<IPython.core.display.Javascript object>"
            ],
            "application/javascript": [
              "\n",
              "    async function download(id, filename, size) {\n",
              "      if (!google.colab.kernel.accessAllowed) {\n",
              "        return;\n",
              "      }\n",
              "      const div = document.createElement('div');\n",
              "      const label = document.createElement('label');\n",
              "      label.textContent = `Downloading \"${filename}\": `;\n",
              "      div.appendChild(label);\n",
              "      const progress = document.createElement('progress');\n",
              "      progress.max = size;\n",
              "      div.appendChild(progress);\n",
              "      document.body.appendChild(div);\n",
              "\n",
              "      const buffers = [];\n",
              "      let downloaded = 0;\n",
              "\n",
              "      const channel = await google.colab.kernel.comms.open(id);\n",
              "      // Send a message to notify the kernel that we're ready.\n",
              "      channel.send({})\n",
              "\n",
              "      for await (const message of channel.messages) {\n",
              "        // Send a message to notify the kernel that we're ready.\n",
              "        channel.send({})\n",
              "        if (message.buffers) {\n",
              "          for (const buffer of message.buffers) {\n",
              "            buffers.push(buffer);\n",
              "            downloaded += buffer.byteLength;\n",
              "            progress.value = downloaded;\n",
              "          }\n",
              "        }\n",
              "      }\n",
              "      const blob = new Blob(buffers, {type: 'application/binary'});\n",
              "      const a = document.createElement('a');\n",
              "      a.href = window.URL.createObjectURL(blob);\n",
              "      a.download = filename;\n",
              "      div.appendChild(a);\n",
              "      a.click();\n",
              "      div.remove();\n",
              "    }\n",
              "  "
            ]
          },
          "metadata": {}
        },
        {
          "output_type": "display_data",
          "data": {
            "text/plain": [
              "<IPython.core.display.Javascript object>"
            ],
            "application/javascript": [
              "download(\"download_bf7c21a8-3778-433d-8ca2-f5ebb3b8ffab\", \"python.py\", 826)"
            ]
          },
          "metadata": {}
        }
      ]
    },
    {
      "cell_type": "code",
      "source": [],
      "metadata": {
        "id": "6kfCAO3F_FHt"
      },
      "execution_count": null,
      "outputs": []
    }
  ]
}